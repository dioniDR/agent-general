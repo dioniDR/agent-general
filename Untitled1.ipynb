{
 "cells": [
  {
   "cell_type": "code",
   "execution_count": 1,
   "id": "d02344a2-261b-4581-8ab1-466c23c0b02a",
   "metadata": {},
   "outputs": [
    {
     "name": "stdout",
     "output_type": "stream",
     "text": [
      "📁 tests\n",
      "    📄 test_core.py\n",
      "    📄 test_providers.py\n",
      "📄 flujo-creador-agente.ipynb\n",
      "📄 README.md\n",
      "📄 Dockerfile\n",
      "📁 cli\n",
      "    📄 interactive_shell.py\n",
      "    📄 run_agent.py\n",
      "📄 requirements.txt\n",
      "📁 logs\n",
      "    📄 archivos_generados.txt\n",
      "    📄 archivos_vaciados.txt\n",
      "📄 flujo-en-una-celda.ipynb\n",
      "📄 .env\n",
      "📁 agent\n",
      "    📄 core.py\n",
      "    📄 __init__.py\n",
      "    📄 executor.py\n",
      "    📄 context.py\n",
      "    📄 objectives.py\n",
      "📁 config\n",
      "    📄 settings.yaml\n",
      "    📄 .env.example\n",
      "📁 providers\n",
      "    📄 __init__.py\n",
      "    📄 fake_provider.py\n",
      "    📄 openai_provider.py\n",
      "    📄 claude_provider.py\n",
      "📄 Untitled.ipynb\n",
      "📁 .ipynb_checkpoints\n",
      "    📄 flujo-creador-agente-checkpoint.ipynb\n",
      "    📄 flujo-en-una-celda-checkpoint.ipynb\n",
      "    📄 Untitled1-checkpoint.ipynb\n",
      "    📄 Untitled-checkpoint.ipynb\n",
      "📄 vaciar-archivo.ipynb.ipynb\n",
      "📁 utils\n",
      "    📄 __init__.py\n",
      "    📄 logger.py\n",
      "📄 .gitignore\n",
      "📄 main.py\n",
      "📄 Untitled1.ipynb\n"
     ]
    }
   ],
   "source": [
    "import os\n",
    "\n",
    "def print_tree(start_path, exclude_dirs=None, prefix=\"\"):\n",
    "    if exclude_dirs is None:\n",
    "        exclude_dirs = []\n",
    "    for item in os.listdir(start_path):\n",
    "        item_path = os.path.join(start_path, item)\n",
    "        if os.path.isdir(item_path):\n",
    "            if item in exclude_dirs:\n",
    "                continue\n",
    "            print(f\"{prefix}📁 {item}\")\n",
    "            print_tree(item_path, exclude_dirs, prefix + \"    \")\n",
    "        else:\n",
    "            print(f\"{prefix}📄 {item}\")\n",
    "\n",
    "# Cambia '.' por el directorio raíz de tu proyecto si es necesario\n",
    "print_tree('.', exclude_dirs=['venv'])"
   ]
  },
  {
   "cell_type": "code",
   "execution_count": null,
   "id": "937211d4",
   "metadata": {},
   "outputs": [],
   "source": []
  }
 ],
 "metadata": {
  "kernelspec": {
   "display_name": "venv",
   "language": "python",
   "name": "python3"
  },
  "language_info": {
   "codemirror_mode": {
    "name": "ipython",
    "version": 3
   },
   "file_extension": ".py",
   "mimetype": "text/x-python",
   "name": "python",
   "nbconvert_exporter": "python",
   "pygments_lexer": "ipython3",
   "version": "3.12.7"
  }
 },
 "nbformat": 4,
 "nbformat_minor": 5
}
