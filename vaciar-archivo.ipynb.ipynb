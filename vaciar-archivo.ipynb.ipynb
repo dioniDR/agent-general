{
 "cells": [
  {
   "cell_type": "code",
   "execution_count": 10,
   "id": "d877496d",
   "metadata": {},
   "outputs": [
    {
     "name": "stdout",
     "output_type": "stream",
     "text": [
      "🧹 Vaciando archivos .py en: /home/dioni/Escritorio/agent-general\n",
      "\n",
      "🧽 Vaciando: tests/test_core.py\n",
      "🧽 Vaciando: tests/test_providers.py\n",
      "🧽 Vaciando: cli/interactive_shell.py\n",
      "🧽 Vaciando: cli/run_agent.py\n",
      "🧽 Vaciando: agent/core.py\n",
      "🧽 Vaciando: agent/__init__.py\n",
      "🧽 Vaciando: agent/executor.py\n",
      "🧽 Vaciando: agent/context.py\n",
      "🧽 Vaciando: agent/objectives.py\n",
      "🧽 Vaciando: providers/__init__.py\n",
      "🧽 Vaciando: providers/fake_provider.py\n",
      "🧽 Vaciando: providers/openai_provider.py\n",
      "🧽 Vaciando: providers/claude_provider.py\n",
      "🧽 Vaciando: utils/__init__.py\n",
      "🧽 Vaciando: utils/logger.py\n",
      "🧽 Vaciando: ejemplos/agente_mini/__init__.py\n",
      "🧽 Vaciando: ejemplos/agente_mini/config.py\n",
      "🧽 Vaciando: ejemplos/agente_mini/main.py\n",
      "\n",
      "✅ Total de archivos .py vaciados: 18\n"
     ]
    }
   ],
   "source": [
    "from pathlib import Path\n",
    "\n",
    "# Ruta base del proyecto\n",
    "base = Path(\".\")\n",
    "\n",
    "# Carpetas a excluir del recorrido\n",
    "excluir = {\"venv\", \"__pycache__\", \".ipynb_checkpoints\"}\n",
    "\n",
    "# Extensiones a vaciar (solo .py)\n",
    "extensiones_a_vaciar = {\".py\"}\n",
    "\n",
    "archivos_vaciados = 0\n",
    "\n",
    "print(f\"🧹 Vaciando archivos .py en: {base.resolve()}\\n\")\n",
    "\n",
    "for archivo in base.rglob(\"*.py\"):\n",
    "    partes = set(archivo.parts)\n",
    "    if partes.intersection(excluir):\n",
    "        continue\n",
    "    print(f\"🧽 Vaciando: {archivo}\")\n",
    "    archivo.write_text(\"\")\n",
    "    archivos_vaciados += 1\n",
    "\n",
    "print(f\"\\n✅ Total de archivos .py vaciados: {archivos_vaciados}\")\n"
   ]
  },
  {
   "cell_type": "code",
   "execution_count": null,
   "id": "25b71fe3",
   "metadata": {},
   "outputs": [],
   "source": []
  }
 ],
 "metadata": {
  "kernelspec": {
   "display_name": "venv",
   "language": "python",
   "name": "python3"
  },
  "language_info": {
   "codemirror_mode": {
    "name": "ipython",
    "version": 3
   },
   "file_extension": ".py",
   "mimetype": "text/x-python",
   "name": "python",
   "nbconvert_exporter": "python",
   "pygments_lexer": "ipython3",
   "version": "3.12.7"
  }
 },
 "nbformat": 4,
 "nbformat_minor": 5
}
